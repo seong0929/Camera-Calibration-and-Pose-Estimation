{
 "cells": [
  {
   "cell_type": "code",
   "execution_count": 1,
   "id": "53b01958",
   "metadata": {},
   "outputs": [],
   "source": [
    "import numpy as np\n",
    "import cv2 as cv"
   ]
  },
  {
   "cell_type": "code",
   "execution_count": 8,
   "id": "814d1742",
   "metadata": {},
   "outputs": [],
   "source": [
    "# The given video and calibration data\n",
    "input_file = 'chessboard.mp4'\n",
    "K = np.array([[1.12988279e+03, 0.00000000e+00, 3.23470104e+02],\n",
    " [0.00000000e+00, 1.13021566e+03, 6.35514334e+02],\n",
    " [0.00000000e+00, 0.00000000e+00, 1.00000000e+00]])\n",
    "dist_coeff = np.array([2.45654296e-01, -1.51959609e+00, 3.25269676e-03, -2.89626141e-03, 3.77524433e+00])\n",
    "board_pattern = (10, 7)\n",
    "board_cellsize = 0.025\n",
    "board_criteria = cv.CALIB_CB_ADAPTIVE_THRESH + cv.CALIB_CB_NORMALIZE_IMAGE + cv.CALIB_CB_FAST_CHECK\n",
    "\n",
    "# Open a video\n",
    "video = cv.VideoCapture(input_file)\n",
    "assert video.isOpened(), 'Cannot read the given input, ' + input_file\n",
    "\n",
    "# Prepare a 3D box for simple AR\n",
    "box_lower = board_cellsize * np.array([[4, 2,  0], [5, 2,  0], [5, 4,  0], [4, 4,  0]])\n",
    "box_upper = board_cellsize * np.array([[4, 2, -1], [5, 2, -1], [5, 4, -1], [4, 4, -1]])\n",
    "\n",
    "# Prepare 3D points on a chessboard\n",
    "obj_points = board_cellsize * np.array([[c, r, 0] for r in range(board_pattern[1]) for c in range(board_pattern[0])])\n",
    "\n",
    "# Run pose estimation\n",
    "while True:\n",
    "    # Read an image from the video\n",
    "    valid, img = video.read()\n",
    "    if not valid:\n",
    "        break\n",
    "\n",
    "    # Estimate the camera pose\n",
    "    complete, img_points = cv.findChessboardCorners(img, board_pattern, board_criteria)\n",
    "    if complete:\n",
    "        ret, rvec, tvec = cv.solvePnP(obj_points, img_points, K, dist_coeff)\n",
    "\n",
    "        # Draw the box on the image\n",
    "        line_lower, _ = cv.projectPoints(box_lower, rvec, tvec, K, dist_coeff)\n",
    "        line_upper, _ = cv.projectPoints(box_upper, rvec, tvec, K, dist_coeff)\n",
    "        cv.polylines(img, [np.int32(line_lower)], True, (255, 0, 0), 2)\n",
    "        cv.polylines(img, [np.int32(line_upper)], True, (0, 0, 255), 2)\n",
    "        for b, t in zip(line_lower, line_upper):\n",
    "            cv.line(img, np.int32(b.flatten()), np.int32(t.flatten()), (0, 255, 0), 2)\n",
    "\n",
    "        # Print the camera position\n",
    "        R, _ = cv.Rodrigues(rvec) # Alternative) scipy.spatial.transform.Rotation\n",
    "        p = (-R.T @ tvec).flatten()\n",
    "        info = f'XYZ: [{p[0]:.3f} {p[1]:.3f} {p[2]:.3f}]'\n",
    "        cv.putText(img, info, (10, 25), cv.FONT_HERSHEY_DUPLEX, 0.6, (0, 255, 0))\n",
    "\n",
    "    # Show the image and process the key event\n",
    "    cv.imshow('Pose Estimation (Chessboard)', img)\n",
    "    key = cv.waitKey(10)\n",
    "    if key == ord(' '):\n",
    "        key = cv.waitKey()\n",
    "    if key == 27: # ESC\n",
    "        break\n",
    "\n",
    "video.release()\n",
    "cv.destroyAllWindows()"
   ]
  },
  {
   "cell_type": "code",
   "execution_count": null,
   "id": "f7480e36",
   "metadata": {},
   "outputs": [],
   "source": []
  }
 ],
 "metadata": {
  "kernelspec": {
   "display_name": "Python 3 (ipykernel)",
   "language": "python",
   "name": "python3"
  },
  "language_info": {
   "codemirror_mode": {
    "name": "ipython",
    "version": 3
   },
   "file_extension": ".py",
   "mimetype": "text/x-python",
   "name": "python",
   "nbconvert_exporter": "python",
   "pygments_lexer": "ipython3",
   "version": "3.9.15"
  }
 },
 "nbformat": 4,
 "nbformat_minor": 5
}
